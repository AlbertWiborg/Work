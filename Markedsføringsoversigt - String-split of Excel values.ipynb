{
 "cells": [
  {
   "cell_type": "code",
   "execution_count": 1,
   "id": "77b938b1-3fcf-40a1-9fba-ea47da82cfae",
   "metadata": {},
   "outputs": [],
   "source": [
    "import os\n",
    "import pandas as pd"
   ]
  },
  {
   "cell_type": "code",
   "execution_count": 20,
   "id": "35025887-c0b0-46ee-81d3-53ff6ac52d43",
   "metadata": {},
   "outputs": [
    {
     "data": {
      "text/plain": [
       "'Copy of Markedsføringsoversigt.xlsx'"
      ]
     },
     "execution_count": 20,
     "metadata": {},
     "output_type": "execute_result"
    }
   ],
   "source": [
    "path = r'REDACTED'\n",
    "os.chdir(path)\n",
    "#List of files in folder\n",
    "file_list = os.listdir(path)\n",
    "file = file_list[0]\n",
    "df = pd.read_excel(file, sheet_name = 'Ikke-splittede navne')\n",
    "navne = list(df.Navn.values)\n",
    "file"
   ]
  },
  {
   "cell_type": "code",
   "execution_count": 31,
   "id": "9f70032b-add8-4fc2-9d60-11337acdfa01",
   "metadata": {
    "tags": []
   },
   "outputs": [
    {
     "name": "stdout",
     "output_type": "stream",
     "text": [
      "Length of navneliste2 before cleaning: 613\n",
      "Length of navneliste2 after cleaning: 431\n",
      "Finished\n"
     ]
    }
   ],
   "source": [
    "navneliste = []\n",
    "navneliste2 = []\n",
    "navneforkortet = navne\n",
    "\n",
    "def countwords(string):\n",
    "    stringsplit = string.split(\" \")\n",
    "    return len(stringsplit)\n",
    "\n",
    "def get_firstword(string):\n",
    "    stringsplit = string.split(\" \")\n",
    "    return stringsplit[0]\n",
    "\n",
    "def get_lastname(string):\n",
    "    stringsplit = string.split(\" \")\n",
    "    \n",
    "    return \" \".join(stringsplit[1:])\n",
    "\n",
    "for navn in navneforkortet:\n",
    "    result = \"\"\n",
    "    result2 = \"\"\n",
    "    string = navn.split(\" & \")[0]\n",
    "    if navn != string:\n",
    "        string2 = navn.split(\" & \")[1]\n",
    "        if countwords(string) == 1:\n",
    "            result += string + \" \" + get_lastname(string2)\n",
    "            result2 += string2\n",
    "        elif countwords(string2) == 1:\n",
    "            result2 += string2 + \" \" + get_lastname(string)\n",
    "            result += string\n",
    "        else:\n",
    "            result += string\n",
    "            result2 += string2\n",
    "        \n",
    "        navneliste.append(result)\n",
    "        navneliste2.append(result2)\n",
    "        continue\n",
    "    \n",
    "    string = navn.split(\" Og \")[0]\n",
    "    if navn != string:\n",
    "        string2 = navn.split(\" Og \")[1]\n",
    "        if countwords(string) == 1:\n",
    "            result += string + \" \" + get_lastname(string2)\n",
    "            result2 += string2\n",
    "        elif countwords(string2) == 1:\n",
    "            result2 += string2 + \" \" + get_lastname(string)\n",
    "            result += string\n",
    "        else:\n",
    "            result += string\n",
    "            result2 += string2\n",
    "        \n",
    "        navneliste.append(result)\n",
    "        navneliste2.append(result2)\n",
    "        continue\n",
    "    \n",
    "    string = navn.split(\" og \")[0]\n",
    "    if navn != string:\n",
    "        string2 = navn.split(\" og \")[1]\n",
    "        if countwords(string) == 1:\n",
    "            result += string + \" \" + get_lastname(string2)\n",
    "            result2 += string2\n",
    "        elif countwords(string2) == 1:\n",
    "            result2 += string2 + \" \" + get_lastname(string)\n",
    "            result += string\n",
    "        else:\n",
    "            result += string\n",
    "            result2 += string2\n",
    "        \n",
    "        navneliste.append(result)\n",
    "        navneliste2.append(result2)\n",
    "        continue\n",
    "    \n",
    "    string = navn.split(\"+\")[0]\n",
    "    if navn != string:\n",
    "        string2 = navn.split(\"+\")[1]\n",
    "        if countwords(string) == 1:\n",
    "            result += string + \" \" + get_lastname(string2)\n",
    "            result2 += string2\n",
    "        elif countwords(string2) == 1:\n",
    "            result2 += string2 + \" \" + get_lastname(string)\n",
    "            result += string\n",
    "        else:\n",
    "            result += string\n",
    "            result2 += string2\n",
    "        \n",
    "        navneliste.append(result)\n",
    "        navneliste2.append(result2)\n",
    "        continue\n",
    "    \n",
    "    string = navn.split(\",\")[0]\n",
    "    if navn != string:\n",
    "        string2 = navn.split(\",\")[1]\n",
    "        if countwords(string) == 1:\n",
    "            result += string + \" \" + get_lastname(string2)\n",
    "            result2 += string2\n",
    "        elif countwords(string2) == 1:\n",
    "            result2 += string2 + \" \" + get_lastname(string)\n",
    "            result += string\n",
    "        else:\n",
    "            result += string\n",
    "            result2 += string2\n",
    "        \n",
    "        navneliste.append(result)\n",
    "        navneliste2.append(result2)\n",
    "        continue\n",
    "    \n",
    "    navneliste.append(navn)\n",
    "\n",
    "print(f'Length of navneliste2 before cleaning: {len(navneliste2)}')\n",
    "navneliste3 = []\n",
    "for entry in navneliste2:\n",
    "    if \"Fru\" not in entry:\n",
    "        if \"ledsager\" not in entry:\n",
    "            if \"fru\" not in entry:\n",
    "                if \"Hustru\" not in entry:\n",
    "                    if \"partner\" not in entry:\n",
    "                        if \"venner\" not in entry:\n",
    "                            if \"veninde\" not in entry:\n",
    "                                if \"gæst\" not in entry:\n",
    "                                    if \"hustru\" not in entry:\n",
    "                                        if \"kæreste\" not in entry:\n",
    "                                            if \"mand\" not in entry:\n",
    "                                                if \"søn\" not in entry:\n",
    "                                                    if \"1\" not in entry:\n",
    "                                                        if countwords(entry.removesuffix(\" \")) != 1:\n",
    "                                                            if countwords(entry.removeprefix(\" \")) != 1:\n",
    "                                                                navneliste3.append(entry)\n",
    "navneliste2 = navneliste3\n",
    "\n",
    "print(f'Length of navneliste2 after cleaning: {len(navneliste2)}')\n",
    "    \n",
    "path = r'REDACTED'\n",
    "os.chdir(path)\n",
    "\n",
    "filename = 'Renset liste af arrangementdeltagere.xlsx'\n",
    "\n",
    "finallist = []\n",
    "for entry in navneliste:\n",
    "    finallist.append(entry)\n",
    "for entry in navneliste2:\n",
    "    finallist.append(entry)\n",
    "\n",
    "df = pd.DataFrame()\n",
    "df['Navneliste'] = finallist\n",
    "\n",
    "writer = pd.ExcelWriter(filename)\n",
    "df.to_excel(writer, index = False, header = True, sheet_name = \"Samlet\")\n",
    "writer.close()\n",
    "    \n",
    "print(\"Finished\")"
   ]
  },
  {
   "cell_type": "code",
   "execution_count": null,
   "id": "38c08a1e-4602-47f5-aef4-c129e26dc755",
   "metadata": {
    "tags": []
   },
   "outputs": [],
   "source": []
  },
  {
   "cell_type": "code",
   "execution_count": null,
   "id": "68931872-0f4f-475d-975f-835555351cb6",
   "metadata": {},
   "outputs": [],
   "source": []
  },
  {
   "cell_type": "code",
   "execution_count": null,
   "id": "7e325f7d-1075-47a2-846d-bbc41b9d9e56",
   "metadata": {},
   "outputs": [],
   "source": []
  },
  {
   "cell_type": "code",
   "execution_count": null,
   "id": "f237d6da-86a4-414d-b125-5352d0d2b740",
   "metadata": {
    "tags": []
   },
   "outputs": [],
   "source": []
  },
  {
   "cell_type": "code",
   "execution_count": null,
   "id": "efa5a6e6-d65a-4707-85b9-d7d8f29305f4",
   "metadata": {
    "tags": []
   },
   "outputs": [],
   "source": []
  },
  {
   "cell_type": "code",
   "execution_count": null,
   "id": "ce38af13-78b6-4993-b8fc-b17702fc3251",
   "metadata": {},
   "outputs": [],
   "source": []
  },
  {
   "cell_type": "code",
   "execution_count": null,
   "id": "a0fb71e5-e40b-4f0a-b0de-dc9a88f0bdae",
   "metadata": {},
   "outputs": [],
   "source": []
  }
 ],
 "metadata": {
  "kernelspec": {
   "display_name": "Python 3 (ipykernel)",
   "language": "python",
   "name": "python3"
  },
  "language_info": {
   "codemirror_mode": {
    "name": "ipython",
    "version": 3
   },
   "file_extension": ".py",
   "mimetype": "text/x-python",
   "name": "python",
   "nbconvert_exporter": "python",
   "pygments_lexer": "ipython3",
   "version": "3.9.12"
  }
 },
 "nbformat": 4,
 "nbformat_minor": 5
}

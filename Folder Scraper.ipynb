{
 "cells": [
  {
   "cell_type": "code",
   "execution_count": null,
   "id": "c8524e0d-bd14-41d1-91bc-982510600da7",
   "metadata": {},
   "outputs": [],
   "source": [
    "import os\n",
    "\n",
    "original_path = r'REDACTED'\n",
    "\n",
    "folders = ['2017', '2018', '2019', '2020', '2021', '2022']\n",
    "\n",
    "file_list = {}\n",
    "\n",
    "for folder in folders:\n",
    "    path = original_path+'\\\\'+folder\n",
    "    print(path)\n",
    "    files = os.listdir(path)\n",
    "    \n",
    "    files_real = []\n",
    "    \n",
    "    for file in files:\n",
    "        if file != file.split('.docx')[0]:\n",
    "            continue\n",
    "        if file != file.split('.xlsx')[0]:\n",
    "            continue\n",
    "        if file != file.split('.db')[0]:\n",
    "            continue\n",
    "        if file != file.split('.pptx')[0]:\n",
    "            continue\n",
    "        if file != file.split('.msg')[0]:\n",
    "            continue\n",
    "        if file != file.split('.lnk')[0]:\n",
    "            continue\n",
    "        files_real.append(file)\n",
    "    file_list[folder] = files_real"
   ]
  },
  {
   "cell_type": "code",
   "execution_count": null,
   "id": "f157298f-6303-4e18-985f-5251f49d86e6",
   "metadata": {},
   "outputs": [],
   "source": [
    "for folder in folders:\n",
    "    print('\\n', folder)\n",
    "    for file in file_list[folder]:\n",
    "        print(file)"
   ]
  },
  {
   "cell_type": "code",
   "execution_count": null,
   "id": "e28ada4a-d62e-4c97-a195-e3f896f71301",
   "metadata": {},
   "outputs": [],
   "source": []
  },
  {
   "cell_type": "code",
   "execution_count": null,
   "id": "fbcc98b8-fd86-4686-8b42-992a51dfb0fb",
   "metadata": {},
   "outputs": [],
   "source": []
  }
 ],
 "metadata": {
  "kernelspec": {
   "display_name": "Python 3 (ipykernel)",
   "language": "python",
   "name": "python3"
  },
  "language_info": {
   "codemirror_mode": {
    "name": "ipython",
    "version": 3
   },
   "file_extension": ".py",
   "mimetype": "text/x-python",
   "name": "python",
   "nbconvert_exporter": "python",
   "pygments_lexer": "ipython3",
   "version": "3.9.12"
  }
 },
 "nbformat": 4,
 "nbformat_minor": 5
}

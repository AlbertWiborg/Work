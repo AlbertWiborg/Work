{
 "cells": [
  {
   "cell_type": "code",
   "execution_count": 136,
   "id": "208107bc-6742-45df-9636-99eb4e53be2c",
   "metadata": {},
   "outputs": [],
   "source": [
    "import os\n",
    "import pandas as pd\n",
    "import numpy as np"
   ]
  },
  {
   "cell_type": "code",
   "execution_count": 137,
   "id": "0be475ac-dffc-4e0b-8bc7-5cf88c9555ea",
   "metadata": {},
   "outputs": [],
   "source": [
    "#Location of folder that we want to retrieve Excel files from\n",
    "path = r\"REDACTED\"\n",
    "#Get list of files in folder\n",
    "file_list = os.listdir(path)\n",
    "#Remove \"Ekstra\" folder from list\n",
    "if 'Ekstra' in file_list:\n",
    "    file_list.remove('Ekstra')\n",
    "os.chdir(path)"
   ]
  },
  {
   "cell_type": "code",
   "execution_count": 138,
   "id": "9be3edcb-42e2-44d3-875d-b4cd6c43bdf6",
   "metadata": {},
   "outputs": [
    {
     "name": "stdout",
     "output_type": "stream",
     "text": [
      "Succesfully appended file: Masterark til leads - 2019.xlsx\n",
      "Succesfully appended file: Masterark til leads - 2020.xlsx\n",
      "Succesfully appended file: Masterark til leads - 2021.xlsx\n",
      "Finished\n"
     ]
    }
   ],
   "source": [
    "headers = []\n",
    "#Column names that we want to retrieve from data sheet\n",
    "relevant_keys = [\"CVR\", \n",
    "                 \"Firmanavn\", \n",
    "                 \"Personnavn\", \n",
    "                 \"Postnummer\", \n",
    "                 \"Telefon\", \n",
    "                 \"Telefon 2\", \n",
    "                 \"Telefon 3\", \n",
    "                 \"Værdipapirer og kapitalandele\", \n",
    "                 \"Likvider\", \n",
    "                 \"Omsætningsaktiver\", \n",
    "                 \"Email\", \n",
    "                 \"Reklamebeskyttet\"]\n",
    "\n",
    "#List of all potential customers\n",
    "emner = []\n",
    "\n",
    "for file in file_list:\n",
    "    try:\n",
    "        #Storing column indices that are present in the given Excel sheet\n",
    "        temp_list = []\n",
    "        df = pd.read_excel(file)\n",
    "        #Get a list of column names\n",
    "        columns = df.columns.tolist()\n",
    "\n",
    "        #Get relevant indices of columns in Excel sheet\n",
    "        for key in relevant_keys:\n",
    "            #If relevant column name is present in column names of given Excel sheet\n",
    "            if key in columns:\n",
    "                #Append temp_list with the column index\n",
    "                temp_list.append(columns.index(key))\n",
    "                continue\n",
    "            temp_list.append(-1)\n",
    "\n",
    "        #Get a list of customers in Excel sheet\n",
    "        values = df.values.tolist()\n",
    "        #Convert to numpy array for slicing\n",
    "        values = np.array(values)\n",
    "        #Empty list of same length as values, to append to missing columns\n",
    "        empty_list = [\"\"] * len(values)\n",
    "        #List of customers that we want to append to final list, emner\n",
    "        customers = []\n",
    "\n",
    "        #Now we loop over the column indices\n",
    "        for ind in temp_list:\n",
    "            #If index is -1, we append the empty list\n",
    "            if ind == -1:\n",
    "                customers.append(empty_list)\n",
    "                continue\n",
    "            #If index is not -1, we append all values of the column index = ind\n",
    "            customers.append(values[:,ind].tolist())\n",
    "        #Append 'customers' list to emner\n",
    "        emner.append(customers)\n",
    "        print(f'Succesfully appended file: {file}')\n",
    "    except:\n",
    "        print(f'Could not open file: {file}')\n",
    "print('Finished')"
   ]
  },
  {
   "cell_type": "code",
   "execution_count": 139,
   "id": "7a764c5d-6911-408e-9b37-616608985056",
   "metadata": {
    "tags": []
   },
   "outputs": [
    {
     "name": "stdout",
     "output_type": "stream",
     "text": [
      "Finished\n"
     ]
    }
   ],
   "source": [
    "emner2 = emner.copy()\n",
    "CVR = []\n",
    "Firmanavn = []\n",
    "Personnavn = []\n",
    "Postnummer = []\n",
    "Telefon = []\n",
    "Telefon_2 = []\n",
    "Telefon_3 = []\n",
    "Værdipapirer_og_kapitalandele = []\n",
    "Likvider = []\n",
    "Omsætningsaktiver = []\n",
    "Email = []\n",
    "Reklamebeskyttet = []\n",
    "\n",
    "for sheet in emner2:\n",
    "    for sublist in range(len(sheet)):\n",
    "        if sublist == 0:\n",
    "            for item in sheet[sublist]:\n",
    "                CVR.append(str(item).split(\".\")[0])\n",
    "        if sublist == 1:\n",
    "            for item in sheet[sublist]:\n",
    "                Firmanavn.append(item)\n",
    "        if sublist == 2:\n",
    "            for item in sheet[sublist]:\n",
    "                Personnavn.append(item)\n",
    "        if sublist == 3:\n",
    "            for item in sheet[sublist]:\n",
    "                try:\n",
    "                    Postnummer.append(int(item))\n",
    "                except:\n",
    "                    Postnummer.append(0)\n",
    "        if sublist == 4:\n",
    "            for item in sheet[sublist]:\n",
    "                Telefon.append(str(item).split(\".\")[0])\n",
    "        if sublist == 5:\n",
    "            for item in sheet[sublist]:\n",
    "                Telefon_2.append(str(item).split(\".\")[0])\n",
    "        if sublist == 6:\n",
    "            for item in sheet[sublist]:\n",
    "                Telefon_3.append(str(item).split(\".\")[0])\n",
    "        if sublist == 7:\n",
    "            for item in sheet[sublist]:\n",
    "                Værdipapirer_og_kapitalandele.append(str(item).split(\".\")[0])\n",
    "        if sublist == 8:\n",
    "            for item in sheet[sublist]:\n",
    "                Likvider.append(str(item).split(\".\")[0])\n",
    "        if sublist == 9:\n",
    "            for item in sheet[sublist]:\n",
    "                Omsætningsaktiver.append(str(item).split(\".\")[0])\n",
    "        if sublist == 10:\n",
    "            for item in sheet[sublist]:\n",
    "                Email.append(item)\n",
    "        if sublist == 11:\n",
    "            for item in sheet[sublist]:\n",
    "                Reklamebeskyttet.append(item)\n",
    "print('Finished')"
   ]
  },
  {
   "cell_type": "code",
   "execution_count": null,
   "id": "90d2128e-006e-48dd-8625-863c82d7178b",
   "metadata": {},
   "outputs": [],
   "source": [
    "df = pd.DataFrame()\n",
    "df[\"CVR\"] = CVR\n",
    "df[\"Firmanavn\"] = Firmanavn\n",
    "df[\"Personnavn\"] = Personnavn\n",
    "df[\"Postnummer\"] = Postnummer\n",
    "df[\"Telefon\"] = Telefon\n",
    "df[\"Telefon 2\"] = Telefon_2\n",
    "df[\"Telefon 3\"] = Telefon_3\n",
    "df[\"Værdipapirer og kapitalandele\"] = Værdipapirer_og_kapitalandele\n",
    "df[\"Likvider\"] = Likvider\n",
    "df[\"Omsætningsaktiver\"] = Omsætningsaktiver\n",
    "df[\"Email\"] = Email\n",
    "df[\"Reklamebeskyttet\"] = Reklamebeskyttet\n",
    "length = len(df)\n",
    "df = df.drop_duplicates(['CVR'], ignore_index = True)\n",
    "print(f'Dropped {length-len(df)} duplicates')\n",
    "length = len(df)\n",
    "df = df[df.Reklamebeskyttet != 'True']\n",
    "print(f'Dropped {length-len(df)} reklamebeskyttede')\n",
    "del df['Reklamebeskyttet']\n",
    "for column in df.columns:\n",
    "    df[column] = df[column].replace(['nan'], 0)\n",
    "    df[column] = df[column].fillna(0)\n",
    "df = df[df.CVR != 0]\n",
    "df = df[df.CVR != \"\"]\n",
    "df = df[(df['Telefon'] != \"\") & (df['Telefon 2'] != \"\") & (df['Telefon 3'] != \"\")]\n",
    "df = df.reset_index()\n",
    "del df['index']\n",
    "df"
   ]
  },
  {
   "cell_type": "code",
   "execution_count": 148,
   "id": "7a2e4496-4628-4a9d-9f0c-5803d0ef28c4",
   "metadata": {},
   "outputs": [
    {
     "name": "stdout",
     "output_type": "stream",
     "text": [
      "Finished\n"
     ]
    }
   ],
   "source": [
    "dføst = df.loc[df['Postnummer'] < 5000]\n",
    "dføst = dføst.reset_index()\n",
    "del dføst['index']\n",
    "dfvest = df.loc[df['Postnummer'] >= 5000]\n",
    "dfvest = dfvest.reset_index()\n",
    "del dfvest['index']\n",
    "\n",
    "filename = 'Samlet.xlsx'\n",
    "\n",
    "writer = pd.ExcelWriter(filename)\n",
    "df.to_excel(writer, index = False, header = True, sheet_name = \"Samlet\")\n",
    "dføst.to_excel(writer, index = False, header = True, sheet_name = \"Samlet-øst\")\n",
    "dfvest.to_excel(writer, index = False, header = True, sheet_name = \"Samlet-vest\")\n",
    "writer.close()\n",
    "print(\"Finished\")"
   ]
  },
  {
   "cell_type": "code",
   "execution_count": null,
   "id": "01ceb977-8e21-4127-8ee4-08fa033820ab",
   "metadata": {},
   "outputs": [],
   "source": [
    "dføst"
   ]
  },
  {
   "cell_type": "code",
   "execution_count": null,
   "id": "d585ff9d-91a3-40ff-a1dc-a35109097cd4",
   "metadata": {},
   "outputs": [],
   "source": [
    "dføst = dføst[(dføst['Telefon'] != \"\") & (dføst['Telefon 2'] != \"\") & (dføst['Telefon 3'] != \"\")]\n",
    "dføst"
   ]
  },
  {
   "cell_type": "code",
   "execution_count": null,
   "id": "638110b2-60fb-4b13-9b58-83f17c0a4740",
   "metadata": {},
   "outputs": [],
   "source": []
  },
  {
   "cell_type": "code",
   "execution_count": null,
   "id": "9b9a1b99-ba36-436f-9d90-758944a3af5c",
   "metadata": {},
   "outputs": [],
   "source": []
  },
  {
   "cell_type": "code",
   "execution_count": null,
   "id": "2242c8e3-3492-4a6d-bf27-dfc51e1486cc",
   "metadata": {},
   "outputs": [],
   "source": []
  },
  {
   "cell_type": "code",
   "execution_count": null,
   "id": "3ec4238b-6eda-43f4-b8c7-2e6b4c3440f5",
   "metadata": {},
   "outputs": [],
   "source": []
  }
 ],
 "metadata": {
  "kernelspec": {
   "display_name": "Python 3 (ipykernel)",
   "language": "python",
   "name": "python3"
  },
  "language_info": {
   "codemirror_mode": {
    "name": "ipython",
    "version": 3
   },
   "file_extension": ".py",
   "mimetype": "text/x-python",
   "name": "python",
   "nbconvert_exporter": "python",
   "pygments_lexer": "ipython3",
   "version": "3.9.12"
  }
 },
 "nbformat": 4,
 "nbformat_minor": 5
}

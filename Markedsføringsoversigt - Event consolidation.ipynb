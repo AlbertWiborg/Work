{
 "cells": [
  {
   "cell_type": "code",
   "execution_count": 1,
   "id": "ff86792b-efc0-4203-8911-0bdee93c74c4",
   "metadata": {},
   "outputs": [],
   "source": [
    "import os\n",
    "import pandas as pd\n",
    "\n",
    "#REDACTED er et godt eksempel på hvorfor man bliver nødt til at lave en mere dybdegående søgning"
   ]
  },
  {
   "cell_type": "code",
   "execution_count": 2,
   "id": "1022d9f8-5f21-4307-b542-a8b3b6d6a652",
   "metadata": {},
   "outputs": [
    {
     "data": {
      "text/plain": [
       "'Copy of Markedsføringsoversigt.xlsx'"
      ]
     },
     "execution_count": 2,
     "metadata": {},
     "output_type": "execute_result"
    }
   ],
   "source": [
    "path = r'REDACTED'\n",
    "os.chdir(path)\n",
    "#List of files in folder\n",
    "file_list = os.listdir(path)\n",
    "file = file_list[0]\n",
    "df_købere = pd.read_excel(file, sheet_name = 'Købere')\n",
    "df_navne = pd.read_excel(file, sheet_name = 'Individuelle-2', skiprows = 1)\n",
    "df_events = pd.read_excel(file, sheet_name = 'Samlet')\n",
    "\n",
    "liste_købere = list(df_købere.Navn.values)\n",
    "liste_navne = list(df_navne.Navne.values)\n",
    "column_indices = list(df_events.columns)[5:-1] #Vi laver en liste med kolonne index fra df_events for alle de inviterede personer\n",
    "liste_datoer = list(df_events.Dato.values)\n",
    "\n",
    "file"
   ]
  },
  {
   "cell_type": "code",
   "execution_count": null,
   "id": "8023246e-5a4f-4aac-944a-32532bf280a4",
   "metadata": {},
   "outputs": [],
   "source": [
    "df_events"
   ]
  },
  {
   "cell_type": "code",
   "execution_count": 7,
   "id": "78689f70-89d0-4c77-84f4-5f4dc2bed697",
   "metadata": {
    "tags": []
   },
   "outputs": [
    {
     "name": "stdout",
     "output_type": "stream",
     "text": [
      "Attempt 50 of 970\n",
      "Attempt 100 of 970\n",
      "Attempt 150 of 970\n",
      "Attempt 200 of 970\n",
      "Attempt 250 of 970\n",
      "Attempt 300 of 970\n",
      "Attempt 350 of 970\n",
      "Attempt 400 of 970\n",
      "Attempt 450 of 970\n",
      "Attempt 500 of 970\n",
      "Attempt 550 of 970\n",
      "Attempt 600 of 970\n",
      "Attempt 650 of 970\n",
      "Attempt 700 of 970\n",
      "Attempt 750 of 970\n",
      "Attempt 800 of 970\n",
      "Attempt 850 of 970\n",
      "Attempt 900 of 970\n",
      "Attempt 950 of 970\n",
      "Finished\n"
     ]
    }
   ],
   "source": [
    "result = []\n",
    "count2 = 0\n",
    "length2 = len(liste_købere)\n",
    "\n",
    "for køber in liste_købere: #loop over hver køber (970)\n",
    "    count2 += 1\n",
    "    if count2%50 == 0:\n",
    "        print(f'Attempt {count2} of {length2}')\n",
    "    temp_køber = []\n",
    "    temp_køber.append(køber)\n",
    "    for column in column_indices: #loop over hvert kolonne index (136)\n",
    "        temp_list = list(df_events[column])\n",
    "        for i, temp in enumerate(temp_list): #loop over hver række i df_events[kolonne] (121)\n",
    "            if type(temp) != str:\n",
    "                continue\n",
    "            temp_stringsplit = temp.split(\" \") #splitter hver celle i hver række i df_events[kolonne] op i enkelte ord\n",
    "            stringsplit = køber.split(\" \") #splitter køberens navn op i enkelte ord\n",
    "            length = len(stringsplit) #Antal ord i køberens navn\n",
    "            count = 0 #Tæller\n",
    "            for split in stringsplit: #Looper over hvert ord i hver celle i hver række i df_events[kolonne]  - @1\n",
    "                if split in temp_stringsplit: #Hvis ordet fra @1 eksisterer, øges Tæller\n",
    "                    count += 1\n",
    "            if count == length: #Hvis køberens navn er i den pågældende celle\n",
    "                temp_køber.append(liste_datoer[i]) #Tilføjer vi datoen for det pågældende arrangement\n",
    "    result.append(temp_køber) #Og tilføjer til den resulterende liste\n",
    "\n",
    "df = pd.DataFrame(result)\n",
    "file = \"Køber-events.xlsx\"\n",
    "writer = pd.ExcelWriter(file)\n",
    "df.to_excel(writer, index = False, header = True, sheet_name = \"Køber-Events\")\n",
    "writer.close()\n",
    "\n",
    "print(\"Finished\")     "
   ]
  },
  {
   "cell_type": "code",
   "execution_count": null,
   "id": "2aca10c6-09d2-4803-9d3f-6c2d7b7e8655",
   "metadata": {},
   "outputs": [],
   "source": []
  },
  {
   "cell_type": "code",
   "execution_count": null,
   "id": "69be60a6-84df-43e4-b3be-1fbac9d4a2b5",
   "metadata": {},
   "outputs": [],
   "source": []
  },
  {
   "cell_type": "code",
   "execution_count": null,
   "id": "bf273e20-c6ec-4727-b768-160d002242e2",
   "metadata": {},
   "outputs": [],
   "source": []
  },
  {
   "cell_type": "code",
   "execution_count": null,
   "id": "68fa0f6e-19b1-4d07-a89a-83e2669e7cc7",
   "metadata": {},
   "outputs": [],
   "source": []
  }
 ],
 "metadata": {
  "kernelspec": {
   "display_name": "Python 3 (ipykernel)",
   "language": "python",
   "name": "python3"
  },
  "language_info": {
   "codemirror_mode": {
    "name": "ipython",
    "version": 3
   },
   "file_extension": ".py",
   "mimetype": "text/x-python",
   "name": "python",
   "nbconvert_exporter": "python",
   "pygments_lexer": "ipython3",
   "version": "3.9.12"
  }
 },
 "nbformat": 4,
 "nbformat_minor": 5
}
